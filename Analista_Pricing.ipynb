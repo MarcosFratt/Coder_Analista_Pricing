{
 "cells": [
  {
   "cell_type": "markdown",
   "id": "37797985",
   "metadata": {},
   "source": [
    "Analista de Pricing"
   ]
  },
  {
   "cell_type": "markdown",
   "id": "f15fce02",
   "metadata": {},
   "source": [
    "Importar librerías\n"
   ]
  },
  {
   "cell_type": "code",
   "execution_count": 6,
   "id": "bd2986be",
   "metadata": {},
   "outputs": [],
   "source": [
    "#Importar librerías\n",
    "\n",
    "from openai import OpenAI\n",
    "import os\n",
    "from dotenv import load_dotenv\n",
    "import pandas as pd"
   ]
  },
  {
   "cell_type": "markdown",
   "id": "9469dbdf",
   "metadata": {},
   "source": [
    "Definir API Key"
   ]
  },
  {
   "cell_type": "code",
   "execution_count": 7,
   "id": "d8dfdf17",
   "metadata": {},
   "outputs": [],
   "source": [
    "#Establecer API Key mediante dotenv\n",
    "load_dotenv()\n",
    "client = OpenAI(api_key=os.getenv(\"OPENAI_API_KEY\"))"
   ]
  },
  {
   "cell_type": "markdown",
   "id": "74d928d2",
   "metadata": {},
   "source": [
    "Crear DataFrame de ejemplo sobre como funcionará el proyecto"
   ]
  },
  {
   "cell_type": "code",
   "execution_count": 16,
   "id": "28847666",
   "metadata": {},
   "outputs": [
    {
     "data": {
      "text/plain": [
       "<bound method NDFrame.head of     Producto  Intercanal  Price Index  EBITDA  Avance Ventas\n",
       "0  Chocolate        95.2         85.4     3.1           25.0\n",
       "1   Caramelo       118.0         82.0    12.5           45.2\n",
       "2     Gomita       110.5        110.3     8.7           60.1\n",
       "3      Dulce       104.3        101.0     2.9           38.5\n",
       "4    Alfajor        86.7        104.8    14.2           72.3>"
      ]
     },
     "execution_count": 16,
     "metadata": {},
     "output_type": "execute_result"
    }
   ],
   "source": [
    "data = {\n",
    "    \"Producto\": [\"Chocolate\", \"Caramelo\", \"Gomita\", \"Dulce\", \"Alfajor\"],\n",
    "    \"Intercanal\": [95.2, 118.0, 110.5, 104.3, 86.7],     # Entre 80% y 120%\n",
    "    \"Price Index\": [85.4, 82.0, 110.3, 101.0, 104.8],   # Entre 80% y 115%\n",
    "    \"EBITDA\": [3.1, 12.5, 8.7, 2.9, 14.2],              # Hasta 15%\n",
    "    \"Avance Ventas\": [25.0, 45.2, 60.1, 38.5, 72.3]     # Entre 0% y 100%\n",
    "}\n",
    "\n",
    "# Crear DataFrame\n",
    "df = pd.DataFrame(data)\n",
    "df.head"
   ]
  },
  {
   "cell_type": "markdown",
   "id": "c7824ded",
   "metadata": {},
   "source": [
    "Establecer el producto del cual se quiere obtener el análisis\n"
   ]
  },
  {
   "cell_type": "code",
   "execution_count": 17,
   "id": "b6ca51cf",
   "metadata": {},
   "outputs": [],
   "source": [
    "producto = \"Gomita\""
   ]
  },
  {
   "cell_type": "code",
   "execution_count": 19,
   "id": "5e7f6192",
   "metadata": {},
   "outputs": [
    {
     "data": {
      "text/html": [
       "<div>\n",
       "<style scoped>\n",
       "    .dataframe tbody tr th:only-of-type {\n",
       "        vertical-align: middle;\n",
       "    }\n",
       "\n",
       "    .dataframe tbody tr th {\n",
       "        vertical-align: top;\n",
       "    }\n",
       "\n",
       "    .dataframe thead th {\n",
       "        text-align: right;\n",
       "    }\n",
       "</style>\n",
       "<table border=\"1\" class=\"dataframe\">\n",
       "  <thead>\n",
       "    <tr style=\"text-align: right;\">\n",
       "      <th></th>\n",
       "      <th>Producto</th>\n",
       "      <th>Intercanal</th>\n",
       "      <th>Price Index</th>\n",
       "      <th>EBITDA</th>\n",
       "      <th>Avance Ventas</th>\n",
       "    </tr>\n",
       "  </thead>\n",
       "  <tbody>\n",
       "    <tr>\n",
       "      <th>2</th>\n",
       "      <td>Gomita</td>\n",
       "      <td>110.5</td>\n",
       "      <td>110.3</td>\n",
       "      <td>8.7</td>\n",
       "      <td>60.1</td>\n",
       "    </tr>\n",
       "  </tbody>\n",
       "</table>\n",
       "</div>"
      ],
      "text/plain": [
       "  Producto  Intercanal  Price Index  EBITDA  Avance Ventas\n",
       "2   Gomita       110.5        110.3     8.7           60.1"
      ]
     },
     "execution_count": 19,
     "metadata": {},
     "output_type": "execute_result"
    }
   ],
   "source": [
    "df_filtrado = df[df[\"Producto\"] == producto]\n",
    "df_filtrado.head()"
   ]
  },
  {
   "cell_type": "code",
   "execution_count": 23,
   "id": "45d44a5e",
   "metadata": {},
   "outputs": [
    {
     "name": "stdout",
     "output_type": "stream",
     "text": [
      "Producto: Gomita, Intercanal: 110.5%, Price Index: 110.3%, EBITDA: 8.7%, Avance de Ventas: 60.1%\n"
     ]
    }
   ],
   "source": [
    "fila = df[df[\"Producto\"] == producto].iloc[0]\n",
    "\n",
    "# Convertir todos los valores en un string\n",
    "info_producto = f\"\"\"Producto: {fila[\"Producto\"]}, Intercanal: {fila[\"Intercanal\"]}%, Price Index: {fila[\"Price Index\"]}%, EBITDA: {fila[\"EBITDA\"]}%, Avance de Ventas: {fila[\"Avance Ventas\"]}%\"\"\"\n",
    "\n",
    "print(info_producto)\n"
   ]
  },
  {
   "cell_type": "markdown",
   "id": "04336a2f",
   "metadata": {},
   "source": [
    "Definición del System y User del modelo"
   ]
  },
  {
   "cell_type": "code",
   "execution_count": null,
   "id": "45a9005e",
   "metadata": {},
   "outputs": [],
   "source": [
    "conversation = [\n",
    "    {\"role\": \"system\": \"content\": \"Eres un analista de Pricing de una empresa de consumo masivo alimenticio retail del mercado de golosinas\"},\n",
    "    {\"role\": \"user\", \"content\": f\"Dame un breve análisis de la situación del producto en dos párrafos de no más de 200 palabras. Aquí están los datos: {info_producto}\"\n",
    "}\n",
    "    \n",
    "]"
   ]
  },
  {
   "cell_type": "markdown",
   "id": "d1ad9a61",
   "metadata": {},
   "source": [
    "Realizar consulta"
   ]
  },
  {
   "cell_type": "code",
   "execution_count": null,
   "id": "6f042959",
   "metadata": {},
   "outputs": [],
   "source": [
    "respuesta = client.chat.completions.create(\n",
    "    model= \"gpt-4o-mini\",\n",
    "    messages= conversation,\n",
    "    max_tokens=200,\n",
    "    temperature=0.5,\n",
    ")"
   ]
  },
  {
   "cell_type": "markdown",
   "id": "b9fa15cd",
   "metadata": {},
   "source": [
    "Imprimir mensaje"
   ]
  },
  {
   "cell_type": "code",
   "execution_count": null,
   "id": "cf4f8efd",
   "metadata": {},
   "outputs": [],
   "source": [
    "message = respuesta.choices[0].message\n",
    "\n",
    "print(message.content)"
   ]
  }
 ],
 "metadata": {
  "kernelspec": {
   "display_name": "base",
   "language": "python",
   "name": "python3"
  },
  "language_info": {
   "codemirror_mode": {
    "name": "ipython",
    "version": 3
   },
   "file_extension": ".py",
   "mimetype": "text/x-python",
   "name": "python",
   "nbconvert_exporter": "python",
   "pygments_lexer": "ipython3",
   "version": "3.11.7"
  }
 },
 "nbformat": 4,
 "nbformat_minor": 5
}
